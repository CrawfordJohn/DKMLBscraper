{
 "cells": [
  {
   "cell_type": "code",
   "execution_count": 14,
   "id": "ba5c179a-b62f-464d-ad35-bd17fa04fe9b",
   "metadata": {},
   "outputs": [],
   "source": [
    "import pandas as pd\n",
    "from sklearn.model_selection import train_test_split\n",
    "from sklearn.ensemble import RandomForestClassifier\n",
    "from sklearn.metrics import brier_score_loss\n",
    "import numpy as np"
   ]
  },
  {
   "cell_type": "code",
   "execution_count": 15,
   "id": "a1eb82db-11c8-47b2-9b5f-373c2899c9a8",
   "metadata": {},
   "outputs": [],
   "source": [
    "judge = pd.read_csv('springer.csv')"
   ]
  },
  {
   "cell_type": "code",
   "execution_count": 16,
   "id": "e063e05b-e2ad-4f03-b3e9-8c044253ee0c",
   "metadata": {},
   "outputs": [
    {
     "data": {
      "text/plain": [
       "Index(['Rk', 'Gcar', 'Gtm', 'Date', 'Tm', 'Unnamed: 5', 'Opp', 'Rslt', 'Inngs',\n",
       "       'PA', 'AB', 'R', 'H', '2B', '3B', 'HR', 'RBI', 'BB', 'IBB', 'SO', 'HBP',\n",
       "       'SH', 'SF', 'ROE', 'GDP', 'SB', 'CS', 'BA', 'OBP', 'SLG', 'OPS', 'BOP',\n",
       "       'aLI', 'WPA', 'acLI', 'cWPA', 'RE24', 'DFS(DK)', 'DFS(FD)', 'Pos'],\n",
       "      dtype='object')"
      ]
     },
     "execution_count": 16,
     "metadata": {},
     "output_type": "execute_result"
    }
   ],
   "source": [
    "judge.columns"
   ]
  },
  {
   "cell_type": "code",
   "execution_count": 17,
   "id": "9e56ab97-80de-4279-b1bf-92542e99caa9",
   "metadata": {},
   "outputs": [],
   "source": [
    "judge = judge[['PA', 'AB', 'R', 'H', '2B', '3B', 'HR', 'RBI', 'BB', 'HBP', 'SF', 'SH', 'SO', 'BA', 'OBP', 'SLG', 'OPS', 'BOP']].dropna()"
   ]
  },
  {
   "cell_type": "code",
   "execution_count": 18,
   "id": "b5cf85d8-8b49-4ea1-a4b8-bf2fefbb681e",
   "metadata": {},
   "outputs": [],
   "source": [
    "judge['Game'] = [i for i in range(0, len(judge))]"
   ]
  },
  {
   "cell_type": "code",
   "execution_count": 19,
   "id": "815f9788-1ed0-486f-b055-f83fed87fb4c",
   "metadata": {},
   "outputs": [],
   "source": [
    "judge['y'] = judge['H'].shift(-1)"
   ]
  },
  {
   "cell_type": "code",
   "execution_count": 20,
   "id": "f78dbdf2-1021-41be-a593-e57f01e3cfe7",
   "metadata": {},
   "outputs": [],
   "source": [
    "judge['weights'] = 1.01 - np.exp(-0.05 * np.arange(len(judge)))"
   ]
  },
  {
   "cell_type": "code",
   "execution_count": 21,
   "id": "faad4316-5a2d-462c-8a03-695d4fd22844",
   "metadata": {},
   "outputs": [],
   "source": [
    "def weighted_frequency(data, alpha=0.99):\n",
    "    unique_values = [0, 1, 2, 3, 4]\n",
    "    weights = np.power(alpha, np.arange(len(data) - 1, -1, -1))\n",
    "    \n",
    "    weighted_freq = {}\n",
    "    for value in unique_values:\n",
    "        mask = (data == value)\n",
    "        weighted_freq[value] = np.sum(weights[mask]) / np.sum(weights)\n",
    "    \n",
    "    return pd.Series(weighted_freq)"
   ]
  },
  {
   "cell_type": "code",
   "execution_count": 22,
   "id": "f6f5e5f3-50be-428e-bc3a-886572cf3ce5",
   "metadata": {},
   "outputs": [
    {
     "data": {
      "text/plain": [
       "array([0.9 , 0.91, 0.92, 0.93, 0.94, 0.95, 0.96, 0.97, 0.98, 0.99])"
      ]
     },
     "execution_count": 22,
     "metadata": {},
     "output_type": "execute_result"
    }
   ],
   "source": [
    "np.arange(0.9, 1, 0.01)"
   ]
  },
  {
   "cell_type": "code",
   "execution_count": 24,
   "id": "60de18ef-818a-4db8-916d-d3d58c6a17ad",
   "metadata": {},
   "outputs": [],
   "source": [
    "def classwise_ece(y_true, y_prob, n_bins=10):\n",
    "    num_classes = y_prob.shape[1]\n",
    "    classwise_ece_scores = []\n",
    "\n",
    "    for k in range(num_classes):\n",
    "        y_true_k = (y_true == k).astype(int)\n",
    "        y_prob_k = y_prob[:, k]\n",
    "        \n",
    "        bin_boundaries = np.linspace(0, 1, n_bins + 1)\n",
    "        bin_lowers = bin_boundaries[:-1]\n",
    "        bin_uppers = bin_boundaries[1:]\n",
    "\n",
    "        ece_k = 0.0\n",
    "        for bin_lower, bin_upper in zip(bin_lowers, bin_uppers):\n",
    "            in_bin = np.logical_and(bin_lower < y_prob_k, y_prob_k <= bin_upper)\n",
    "            prop_in_bin = np.mean(in_bin)\n",
    "            if prop_in_bin > 0:\n",
    "                accuracy_in_bin = np.mean(y_true_k[in_bin])\n",
    "                avg_prob_in_bin = np.mean(y_prob_k[in_bin])\n",
    "                ece_k += np.abs(avg_prob_in_bin - accuracy_in_bin) * prop_in_bin\n",
    "\n",
    "        classwise_ece_scores.append(ece_k)\n",
    "\n",
    "    return classwise_ece_scores"
   ]
  },
  {
   "cell_type": "code",
   "execution_count": 43,
   "id": "2e91676b",
   "metadata": {},
   "outputs": [],
   "source": [
    "y = judge['RBI'].dropna()"
   ]
  },
  {
   "cell_type": "code",
   "execution_count": 48,
   "id": "80a7e925",
   "metadata": {},
   "outputs": [
    {
     "data": {
      "text/plain": [
       "110"
      ]
     },
     "execution_count": 48,
     "metadata": {},
     "output_type": "execute_result"
    }
   ],
   "source": [
    "len(prob_arrs)"
   ]
  },
  {
   "cell_type": "code",
   "execution_count": 49,
   "id": "36a83de5-478d-4189-bfa0-c2eee48a24da",
   "metadata": {},
   "outputs": [],
   "source": [
    "arrs = []\n",
    "for i in range(1, len(judge)):\n",
    "    arr = weighted_frequency(judge['RBI'][:i], alpha = 0.97).values\n",
    "    arrs.append(arr)\n",
    "    prob_arrs = np.array(arrs)\n",
    "classwise_ece_value = classwise_ece(y[:-1], prob_arrs, n_bins=10)"
   ]
  },
  {
   "cell_type": "code",
   "execution_count": 51,
   "id": "efe326a8",
   "metadata": {},
   "outputs": [
    {
     "data": {
      "text/plain": [
       "0    0.752903\n",
       "1    0.109276\n",
       "2    0.071980\n",
       "3    0.056080\n",
       "4    0.000000\n",
       "dtype: float64"
      ]
     },
     "execution_count": 51,
     "metadata": {},
     "output_type": "execute_result"
    }
   ],
   "source": [
    "weighted_frequency(judge['RBI'], alpha=0.97)"
   ]
  },
  {
   "cell_type": "code",
   "execution_count": null,
   "id": "16cd4ce2-9614-49e3-b616-2524d161e485",
   "metadata": {},
   "outputs": [],
   "source": [
    "judge['1B'] = judge['H'] - judge['2B'] - judge['3B'] - judge['HR']"
   ]
  },
  {
   "cell_type": "code",
   "execution_count": null,
   "id": "a6c81683-85d0-4d30-a53d-03b3ae7c22dd",
   "metadata": {},
   "outputs": [],
   "source": [
    "rolling_hits = judge['H'].rolling(10, min_periods=1).sum()\n",
    "rolling_abs = judge['AB'].rolling(10, min_periods=1).sum()\n",
    "judge['BA10'] = rolling_hits / rolling_abs\n",
    "\n",
    "rolling_hits = judge['H'].rolling(5, min_periods=1).sum()\n",
    "rolling_abs = judge['AB'].rolling(5, min_periods=1).sum()\n",
    "judge['BA5'] = rolling_hits / rolling_abs\n",
    "\n",
    "rolling_bases = judge['H'].rolling(10, min_periods=1).sum() + judge['BB'].rolling(10, min_periods=1).sum() + judge['HBP'].rolling(10, min_periods=1).sum()\n",
    "rolling_pa = judge['PA'].rolling(10, min_periods=1).sum()\n",
    "judge['OBP10'] = rolling_bases / rolling_pa\n",
    "\n",
    "rolling_bases = judge['H'].rolling(5, min_periods=1).sum() + judge['BB'].rolling(10, min_periods=1).sum() + judge['HBP'].rolling(10, min_periods=1).sum()\n",
    "rolling_pa = judge['PA'].rolling(5, min_periods=1).sum()\n",
    "judge['OBP5'] = rolling_bases / rolling_pa\n",
    "\n",
    "\n",
    "rolling_bases = judge['2B'].rolling(10, min_periods=1).sum() * 2 + judge['3B'].rolling(10, min_periods=1).sum()*3 + judge['HR'].rolling(10, min_periods=1).sum()*4 + judge['1B'].rolling(10, min_periods=1).sum() \n",
    "rolling_abs = judge['AB'].rolling(10, min_periods=1).sum()\n",
    "judge['SLG10'] = rolling_bases / rolling_abs\n",
    "\n",
    "rolling_bases = judge['2B'].rolling(10, min_periods=1).sum() * 2 + judge['3B'].rolling(10, min_periods=1).sum()*3 + judge['HR'].rolling(10, min_periods=1).sum()*4 + judge['1B'].rolling(10, min_periods=1).sum() \n",
    "rolling_ab = judge['AB'].rolling(5, min_periods=1).sum()\n",
    "judge['SLG5'] = rolling_bases / rolling_ab\n",
    "\n",
    "judge['OPS10'] = judge['OBP10'] + judge['SLG10']\n",
    "judge['OPS5'] = judge['OBP5'] + judge['SLG5']\n",
    "\n",
    "test = judge.iloc[:, 13:21]"
   ]
  },
  {
   "cell_type": "code",
   "execution_count": null,
   "id": "e7bb802c-4489-4c7e-a339-672a08848cae",
   "metadata": {},
   "outputs": [
    {
     "data": {
      "text/html": [
       "<div>\n",
       "<style scoped>\n",
       "    .dataframe tbody tr th:only-of-type {\n",
       "        vertical-align: middle;\n",
       "    }\n",
       "\n",
       "    .dataframe tbody tr th {\n",
       "        vertical-align: top;\n",
       "    }\n",
       "\n",
       "    .dataframe thead th {\n",
       "        text-align: right;\n",
       "    }\n",
       "</style>\n",
       "<table border=\"1\" class=\"dataframe\">\n",
       "  <thead>\n",
       "    <tr style=\"text-align: right;\">\n",
       "      <th></th>\n",
       "      <th>BA</th>\n",
       "      <th>OBP</th>\n",
       "      <th>SLG</th>\n",
       "      <th>OPS</th>\n",
       "      <th>BOP</th>\n",
       "      <th>Game</th>\n",
       "      <th>y</th>\n",
       "      <th>1B</th>\n",
       "    </tr>\n",
       "  </thead>\n",
       "  <tbody>\n",
       "    <tr>\n",
       "      <th>0</th>\n",
       "      <td>0.250</td>\n",
       "      <td>0.400</td>\n",
       "      <td>0.500</td>\n",
       "      <td>0.900</td>\n",
       "      <td>3.0</td>\n",
       "      <td>0</td>\n",
       "      <td>0.0</td>\n",
       "      <td>0</td>\n",
       "    </tr>\n",
       "    <tr>\n",
       "      <th>1</th>\n",
       "      <td>0.111</td>\n",
       "      <td>0.200</td>\n",
       "      <td>0.222</td>\n",
       "      <td>0.422</td>\n",
       "      <td>3.0</td>\n",
       "      <td>1</td>\n",
       "      <td>1.0</td>\n",
       "      <td>0</td>\n",
       "    </tr>\n",
       "    <tr>\n",
       "      <th>2</th>\n",
       "      <td>0.167</td>\n",
       "      <td>0.286</td>\n",
       "      <td>0.250</td>\n",
       "      <td>0.536</td>\n",
       "      <td>3.0</td>\n",
       "      <td>2</td>\n",
       "      <td>0.0</td>\n",
       "      <td>1</td>\n",
       "    </tr>\n",
       "    <tr>\n",
       "      <th>3</th>\n",
       "      <td>0.125</td>\n",
       "      <td>0.211</td>\n",
       "      <td>0.188</td>\n",
       "      <td>0.398</td>\n",
       "      <td>3.0</td>\n",
       "      <td>3</td>\n",
       "      <td>1.0</td>\n",
       "      <td>0</td>\n",
       "    </tr>\n",
       "    <tr>\n",
       "      <th>4</th>\n",
       "      <td>0.143</td>\n",
       "      <td>0.208</td>\n",
       "      <td>0.190</td>\n",
       "      <td>0.399</td>\n",
       "      <td>3.0</td>\n",
       "      <td>4</td>\n",
       "      <td>0.0</td>\n",
       "      <td>1</td>\n",
       "    </tr>\n",
       "    <tr>\n",
       "      <th>...</th>\n",
       "      <td>...</td>\n",
       "      <td>...</td>\n",
       "      <td>...</td>\n",
       "      <td>...</td>\n",
       "      <td>...</td>\n",
       "      <td>...</td>\n",
       "      <td>...</td>\n",
       "      <td>...</td>\n",
       "    </tr>\n",
       "    <tr>\n",
       "      <th>84</th>\n",
       "      <td>0.321</td>\n",
       "      <td>0.440</td>\n",
       "      <td>0.718</td>\n",
       "      <td>1.158</td>\n",
       "      <td>3.0</td>\n",
       "      <td>84</td>\n",
       "      <td>0.0</td>\n",
       "      <td>2</td>\n",
       "    </tr>\n",
       "    <tr>\n",
       "      <th>85</th>\n",
       "      <td>0.318</td>\n",
       "      <td>0.438</td>\n",
       "      <td>0.711</td>\n",
       "      <td>1.149</td>\n",
       "      <td>3.0</td>\n",
       "      <td>85</td>\n",
       "      <td>0.0</td>\n",
       "      <td>0</td>\n",
       "    </tr>\n",
       "    <tr>\n",
       "      <th>86</th>\n",
       "      <td>0.314</td>\n",
       "      <td>0.433</td>\n",
       "      <td>0.702</td>\n",
       "      <td>1.135</td>\n",
       "      <td>3.0</td>\n",
       "      <td>86</td>\n",
       "      <td>0.0</td>\n",
       "      <td>0</td>\n",
       "    </tr>\n",
       "    <tr>\n",
       "      <th>87</th>\n",
       "      <td>0.310</td>\n",
       "      <td>0.430</td>\n",
       "      <td>0.693</td>\n",
       "      <td>1.123</td>\n",
       "      <td>3.0</td>\n",
       "      <td>87</td>\n",
       "      <td>2.0</td>\n",
       "      <td>0</td>\n",
       "    </tr>\n",
       "    <tr>\n",
       "      <th>88</th>\n",
       "      <td>0.312</td>\n",
       "      <td>0.430</td>\n",
       "      <td>0.688</td>\n",
       "      <td>1.118</td>\n",
       "      <td>3.0</td>\n",
       "      <td>88</td>\n",
       "      <td>NaN</td>\n",
       "      <td>2</td>\n",
       "    </tr>\n",
       "  </tbody>\n",
       "</table>\n",
       "<p>89 rows × 8 columns</p>\n",
       "</div>"
      ],
      "text/plain": [
       "       BA    OBP    SLG    OPS  BOP  Game    y  1B\n",
       "0   0.250  0.400  0.500  0.900  3.0     0  0.0   0\n",
       "1   0.111  0.200  0.222  0.422  3.0     1  1.0   0\n",
       "2   0.167  0.286  0.250  0.536  3.0     2  0.0   1\n",
       "3   0.125  0.211  0.188  0.398  3.0     3  1.0   0\n",
       "4   0.143  0.208  0.190  0.399  3.0     4  0.0   1\n",
       "..    ...    ...    ...    ...  ...   ...  ...  ..\n",
       "84  0.321  0.440  0.718  1.158  3.0    84  0.0   2\n",
       "85  0.318  0.438  0.711  1.149  3.0    85  0.0   0\n",
       "86  0.314  0.433  0.702  1.135  3.0    86  0.0   0\n",
       "87  0.310  0.430  0.693  1.123  3.0    87  2.0   0\n",
       "88  0.312  0.430  0.688  1.118  3.0    88  NaN   2\n",
       "\n",
       "[89 rows x 8 columns]"
      ]
     },
     "execution_count": 63,
     "metadata": {},
     "output_type": "execute_result"
    }
   ],
   "source": [
    "test"
   ]
  },
  {
   "cell_type": "code",
   "execution_count": null,
   "id": "be234109-2512-4f97-8cfa-a21b3c9624c0",
   "metadata": {},
   "outputs": [],
   "source": [
    "test = test.dropna()"
   ]
  },
  {
   "cell_type": "code",
   "execution_count": null,
   "id": "630d5d5e-cc09-40ab-917c-ae392cc6a1cd",
   "metadata": {},
   "outputs": [],
   "source": [
    "X= test.drop(['y', '1B'], axis = 1)\n",
    "y = test['y']"
   ]
  },
  {
   "cell_type": "code",
   "execution_count": null,
   "id": "6f8a1ae3-5a5f-410d-9534-17502e7023db",
   "metadata": {},
   "outputs": [],
   "source": [
    "X_train, X_test, y_train, y_test = train_test_split(X, y, test_size=0.2, random_state=42)"
   ]
  },
  {
   "cell_type": "code",
   "execution_count": null,
   "id": "99b01e41-d563-4a7a-aed3-513d95b9dda3",
   "metadata": {},
   "outputs": [
    {
     "name": "stdout",
     "output_type": "stream",
     "text": [
      "  Feature  Importance\n",
      "5    Game    0.215725\n",
      "0      BA    0.209700\n",
      "3     OPS    0.202190\n",
      "2     SLG    0.197261\n",
      "1     OBP    0.175124\n",
      "4     BOP    0.000000\n"
     ]
    }
   ],
   "source": [
    "model = RandomForestClassifier(random_state=42)\n",
    "\n",
    "# Train the model\n",
    "model.fit(X_train, y_train)\n",
    "\n",
    "# Get feature importances\n",
    "importances = model.feature_importances_\n",
    "\n",
    "# Create a DataFrame for visualization\n",
    "feature_importances = pd.DataFrame({\n",
    "    'Feature': X_train.columns,\n",
    "    'Importance': importances\n",
    "}).sort_values(by='Importance', ascending=False)\n",
    "\n",
    "print(feature_importances)"
   ]
  },
  {
   "cell_type": "code",
   "execution_count": null,
   "id": "891e0dfe-6806-4d9f-887a-7b6189535f6f",
   "metadata": {},
   "outputs": [],
   "source": [
    "y_pred_proba = model.predict_proba(X_test)"
   ]
  },
  {
   "cell_type": "code",
   "execution_count": 103,
   "id": "43654703-18e1-4459-bebb-bc74133ef721",
   "metadata": {},
   "outputs": [
    {
     "data": {
      "text/plain": [
       "array([76,  0, 26, 22, 12, 67, 10, 18,  4, 68, 85, 65, 53, 80, 84, 64, 33,\n",
       "       79], dtype=int64)"
      ]
     },
     "execution_count": 103,
     "metadata": {},
     "output_type": "execute_result"
    }
   ],
   "source": [
    "np.array(y_test.index)"
   ]
  },
  {
   "cell_type": "code",
   "execution_count": 134,
   "id": "f0189871-0a1e-469a-bbef-6cedeb356423",
   "metadata": {},
   "outputs": [],
   "source": [
    "y_pred_hist = np.array(historic_preds)[np.array(y_test.index)]"
   ]
  },
  {
   "cell_type": "code",
   "execution_count": 135,
   "id": "32d9d9cf-044b-4146-a912-9651b5537936",
   "metadata": {},
   "outputs": [
    {
     "name": "stdout",
     "output_type": "stream",
     "text": [
      "Classwise ECE: [0.31351548117421346, 0.18237049784367604, 0.09386700980945989, 0.10381352363900553, 0.007375270235420725]\n"
     ]
    }
   ],
   "source": [
    "classwise_ece_values = classwise_ece(y_test, y_pred_hist, n_bins=10)\n",
    "print(f'Classwise ECE: {classwise_ece_values}')"
   ]
  },
  {
   "cell_type": "code",
   "execution_count": null,
   "id": "f5b5ea44-46bc-4a18-ad6c-18caed1358e1",
   "metadata": {},
   "outputs": [],
   "source": [
    "Classwise ECE: [0.32666666666666677, 0.30833333333333335, 0.34277777777777774, 0.18944444444444444, 0.0005555555555555556]"
   ]
  },
  {
   "cell_type": "code",
   "execution_count": 74,
   "id": "6e01fa3a-4f1c-4925-a70e-70548e9e7cdc",
   "metadata": {},
   "outputs": [
    {
     "name": "stderr",
     "output_type": "stream",
     "text": [
      "C:\\Users\\johng\\Python\\anaconda3\\envs\\mlb_bets\\Lib\\site-packages\\sklearn\\base.py:493: UserWarning: X does not have valid feature names, but RandomForestClassifier was fitted with feature names\n",
      "  warnings.warn(\n"
     ]
    },
    {
     "data": {
      "text/plain": [
       "array([[0.14, 0.14, 0.72, 0.  , 0.  ]])"
      ]
     },
     "execution_count": 74,
     "metadata": {},
     "output_type": "execute_result"
    }
   ],
   "source": [
    "model.predict_proba(np.array([0.312, 0.430, 0.688, 1.118, 3.0, 88]).reshape(1, -1))"
   ]
  },
  {
   "cell_type": "code",
   "execution_count": 114,
   "id": "43dc8959-8c5e-487b-a0cb-5e6c7db63324",
   "metadata": {},
   "outputs": [
    {
     "data": {
      "text/plain": [
       "array([0.35227273, 0.30681818, 0.27272727, 0.05681818, 0.01136364])"
      ]
     },
     "execution_count": 114,
     "metadata": {},
     "output_type": "execute_result"
    }
   ],
   "source": [
    "historic_preds[-1]"
   ]
  },
  {
   "cell_type": "code",
   "execution_count": 112,
   "id": "0b2cdb73-29f2-46f4-acfd-5402dcfc88e0",
   "metadata": {},
   "outputs": [
    {
     "data": {
      "text/plain": [
       "0.6477272727272727"
      ]
     },
     "execution_count": 112,
     "metadata": {},
     "output_type": "execute_result"
    }
   ],
   "source": [
    "historic_preds[-1][1:].sum()"
   ]
  },
  {
   "cell_type": "code",
   "execution_count": null,
   "id": "99341611-659e-4890-b117-215965238e3d",
   "metadata": {},
   "outputs": [],
   "source": [
    "[0.160246440159461, 0.026372961837767196, 0.20887939554843984, 0.08635677160904831, 0.007748810549401915]"
   ]
  }
 ],
 "metadata": {
  "kernelspec": {
   "display_name": "Python 3 (ipykernel)",
   "language": "python",
   "name": "python3"
  },
  "language_info": {
   "codemirror_mode": {
    "name": "ipython",
    "version": 3
   },
   "file_extension": ".py",
   "mimetype": "text/x-python",
   "name": "python",
   "nbconvert_exporter": "python",
   "pygments_lexer": "ipython3",
   "version": "3.11.7"
  }
 },
 "nbformat": 4,
 "nbformat_minor": 5
}
