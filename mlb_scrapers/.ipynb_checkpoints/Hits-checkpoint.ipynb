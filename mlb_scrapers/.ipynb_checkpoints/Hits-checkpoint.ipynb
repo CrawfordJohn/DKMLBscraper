{
 "cells": [
  {
   "cell_type": "code",
   "execution_count": 75,
   "id": "ba5c179a-b62f-464d-ad35-bd17fa04fe9b",
   "metadata": {},
   "outputs": [],
   "source": [
    "import pandas as pd\n",
    "from sklearn.model_selection import train_test_split\n",
    "from sklearn.ensemble import RandomForestClassifier\n",
    "from sklearn.metrics import brier_score_loss\n",
    "import numpy as np"
   ]
  },
  {
   "cell_type": "code",
   "execution_count": 76,
   "id": "a1eb82db-11c8-47b2-9b5f-373c2899c9a8",
   "metadata": {},
   "outputs": [],
   "source": [
    "judge = pd.read_csv('judge.csv')"
   ]
  },
  {
   "cell_type": "code",
   "execution_count": 77,
   "id": "e063e05b-e2ad-4f03-b3e9-8c044253ee0c",
   "metadata": {},
   "outputs": [
    {
     "data": {
      "text/plain": [
       "Index(['Rk', 'Gcar', 'Gtm', 'Date', 'Tm', 'Unnamed: 5', 'Opp', 'Rslt', 'Inngs',\n",
       "       'PA', 'AB', 'R', 'H', '2B', '3B', 'HR', 'RBI', 'BB', 'IBB', 'SO', 'HBP',\n",
       "       'SH', 'SF', 'ROE', 'GDP', 'SB', 'CS', 'BA', 'OBP', 'SLG', 'OPS', 'BOP',\n",
       "       'aLI', 'WPA', 'acLI', 'cWPA', 'RE24', 'DFS(DK)', 'DFS(FD)', 'Pos'],\n",
       "      dtype='object')"
      ]
     },
     "execution_count": 77,
     "metadata": {},
     "output_type": "execute_result"
    }
   ],
   "source": [
    "judge.columns"
   ]
  },
  {
   "cell_type": "code",
   "execution_count": 78,
   "id": "9e56ab97-80de-4279-b1bf-92542e99caa9",
   "metadata": {},
   "outputs": [],
   "source": [
    "judge = judge[['PA', 'AB', 'R', 'H', '2B', '3B', 'HR', 'RBI', 'BB', 'HBP', 'SF', 'SH', 'SO', 'BA', 'OBP', 'SLG', 'OPS', 'BOP']].dropna()"
   ]
  },
  {
   "cell_type": "code",
   "execution_count": 79,
   "id": "b5cf85d8-8b49-4ea1-a4b8-bf2fefbb681e",
   "metadata": {},
   "outputs": [],
   "source": [
    "judge['Game'] = [i for i in range(0, len(judge))]"
   ]
  },
  {
   "cell_type": "code",
   "execution_count": 80,
   "id": "815f9788-1ed0-486f-b055-f83fed87fb4c",
   "metadata": {},
   "outputs": [],
   "source": [
    "judge['y'] = judge['H'].shift(-1)"
   ]
  },
  {
   "cell_type": "code",
   "execution_count": 122,
   "id": "f78dbdf2-1021-41be-a593-e57f01e3cfe7",
   "metadata": {},
   "outputs": [],
   "source": [
    "judge['weights'] = 1.01 - np.exp(-0.05 * np.arange(len(judge)))"
   ]
  },
  {
   "cell_type": "code",
   "execution_count": 168,
   "id": "faad4316-5a2d-462c-8a03-695d4fd22844",
   "metadata": {},
   "outputs": [],
   "source": [
    "def weighted_frequency(data, alpha=0.99):\n",
    "    unique_values = [0, 1, 2, 3, 4]\n",
    "    weights = np.power(alpha, np.arange(len(data) - 1, -1, -1))\n",
    "    \n",
    "    weighted_freq = {}\n",
    "    for value in unique_values:\n",
    "        mask = (data == value)\n",
    "        weighted_freq[value] = np.sum(weights[mask]) / np.sum(weights)\n",
    "    \n",
    "    return pd.Series(weighted_freq)"
   ]
  },
  {
   "cell_type": "code",
   "execution_count": 169,
   "id": "f6f5e5f3-50be-428e-bc3a-886572cf3ce5",
   "metadata": {},
   "outputs": [
    {
     "data": {
      "text/plain": [
       "array([0.9 , 0.91, 0.92, 0.93, 0.94, 0.95, 0.96, 0.97, 0.98, 0.99])"
      ]
     },
     "execution_count": 169,
     "metadata": {},
     "output_type": "execute_result"
    }
   ],
   "source": [
    "np.arange(0.9, 1, 0.01)"
   ]
  },
  {
   "cell_type": "code",
   "execution_count": 170,
   "id": "a35990c1-9fe7-4667-a582-76bcb0dcf311",
   "metadata": {},
   "outputs": [
    {
     "data": {
      "text/plain": [
       "0    1\n",
       "Name: H, dtype: int64"
      ]
     },
     "execution_count": 170,
     "metadata": {},
     "output_type": "execute_result"
    }
   ],
   "source": [
    "judge['H'][:i]"
   ]
  },
  {
   "cell_type": "code",
   "execution_count": 198,
   "id": "36a83de5-478d-4189-bfa0-c2eee48a24da",
   "metadata": {},
   "outputs": [],
   "source": [
    "arrs = []\n",
    "for i in range(1, len(judge)):\n",
    "    arr = weighted_frequency(judge['H'][:i], alpha = 0.97).values\n",
    "    arrs.append(arr)\n",
    "    prob_arrs = np.array(arrs)\n",
    "classwise_ece_value = classwise_ece(y, prob_arrs, n_bins=10)"
   ]
  },
  {
   "cell_type": "code",
   "execution_count": 199,
   "id": "399175c0-3a69-49d8-865b-0a3266acfa64",
   "metadata": {},
   "outputs": [
    {
     "data": {
      "text/plain": [
       "array([[0.        , 1.        , 0.        , 0.        , 0.        ],\n",
       "       [0.50761421, 0.49238579, 0.        , 0.        , 0.        ],\n",
       "       [0.33323027, 0.66676973, 0.        , 0.        , 0.        ],\n",
       "       [0.50761421, 0.49238579, 0.        , 0.        , 0.        ],\n",
       "       [0.39981454, 0.60018546, 0.        , 0.        , 0.        ],\n",
       "       [0.50761421, 0.49238579, 0.        , 0.        , 0.        ],\n",
       "       [0.42830658, 0.41545738, 0.15623604, 0.        , 0.        ],\n",
       "       [0.50761421, 0.35782344, 0.13456234, 0.        , 0.        ],\n",
       "       [0.44410129, 0.31305241, 0.2428463 , 0.        , 0.        ],\n",
       "       [0.50761421, 0.27728533, 0.21510046, 0.        , 0.        ],\n",
       "       [0.55949917, 0.2480665 , 0.19243433, 0.        , 0.        ],\n",
       "       [0.50467455, 0.32174751, 0.17357794, 0.        , 0.        ],\n",
       "       [0.55012102, 0.29222695, 0.15765203, 0.        , 0.        ],\n",
       "       [0.50258255, 0.26697428, 0.23044316, 0.        , 0.        ],\n",
       "       [0.46147137, 0.32693568, 0.21159294, 0.        , 0.        ],\n",
       "       [0.42558214, 0.37928078, 0.19513708, 0.        , 0.        ],\n",
       "       [0.46821857, 0.35112849, 0.18065294, 0.        , 0.        ],\n",
       "       [0.50601857, 0.32616963, 0.1678118 , 0.        , 0.        ],\n",
       "       [0.47146919, 0.37217668, 0.15635413, 0.        , 0.        ],\n",
       "       [0.44046547, 0.41346222, 0.14607231, 0.        , 0.        ],\n",
       "       [0.47599   , 0.38721173, 0.13679826, 0.        , 0.        ],\n",
       "       [0.44674893, 0.42485662, 0.12839445, 0.        , 0.        ],\n",
       "       [0.47970057, 0.39955215, 0.12074728, 0.        , 0.        ],\n",
       "       [0.45194991, 0.43428804, 0.11376205, 0.        , 0.        ],\n",
       "       [0.42651303, 0.40984522, 0.16364175, 0.        , 0.        ],\n",
       "       [0.45796372, 0.38736884, 0.15466744, 0.        , 0.        ],\n",
       "       [0.48696908, 0.36664002, 0.1463909 , 0.        , 0.        ],\n",
       "       [0.46150908, 0.34747113, 0.1910198 , 0.        , 0.        ],\n",
       "       [0.43790612, 0.32970041, 0.18125047, 0.05114299, 0.        ],\n",
       "       [0.415974  , 0.36327174, 0.17217271, 0.04858154, 0.        ],\n",
       "       [0.4446485 , 0.34543583, 0.16371938, 0.04619629, 0.        ],\n",
       "       [0.47140415, 0.32879347, 0.15583173, 0.04397065, 0.        ],\n",
       "       [0.49641612, 0.3132357 , 0.14845812, 0.04189006, 0.        ],\n",
       "       [0.47332668, 0.34517866, 0.141553  , 0.03994165, 0.        ],\n",
       "       [0.45166881, 0.32938442, 0.18083271, 0.03811406, 0.        ],\n",
       "       [0.43132253, 0.31454667, 0.21773367, 0.03639714, 0.        ],\n",
       "       [0.4121808 , 0.3449665 , 0.20807084, 0.03478186, 0.        ],\n",
       "       [0.39414787, 0.3298742 , 0.19896772, 0.07701021, 0.        ],\n",
       "       [0.37713776, 0.35879458, 0.19038094, 0.07368671, 0.        ],\n",
       "       [0.40366935, 0.34351129, 0.18227143, 0.07054793, 0.        ],\n",
       "       [0.4287548 , 0.32906102, 0.17460394, 0.06758024, 0.        ],\n",
       "       [0.41093369, 0.31538366, 0.20891137, 0.06477128, 0.        ],\n",
       "       [0.39404858, 0.34351429, 0.20032728, 0.06210985, 0.        ],\n",
       "       [0.37803486, 0.32955423, 0.19218619, 0.05958577, 0.04063895],\n",
       "       [0.36283364, 0.31630247, 0.22466931, 0.05718976, 0.03900481],\n",
       "       [0.34839116, 0.34351685, 0.21572642, 0.05491334, 0.03745224],\n",
       "       [0.3346582 , 0.36939424, 0.20722287, 0.05274875, 0.03597594],\n",
       "       [0.32158966, 0.39401966, 0.19913073, 0.05068889, 0.03457106],\n",
       "       [0.30914408, 0.37877103, 0.23012451, 0.04872722, 0.03323316],\n",
       "       [0.33564972, 0.36423896, 0.22129546, 0.04685774, 0.03195812],\n",
       "       [0.3228789 , 0.38842843, 0.2128756 , 0.04507489, 0.03074218],\n",
       "       [0.31069207, 0.37376748, 0.24258505, 0.04337357, 0.02958183],\n",
       "       [0.29905534, 0.39722253, 0.23349921, 0.04174905, 0.02847387],\n",
       "       [0.28793733, 0.38245495, 0.26199549, 0.04019694, 0.02741529],\n",
       "       [0.27730893, 0.40524988, 0.25232467, 0.03871318, 0.02640333],\n",
       "       [0.26714312, 0.4270527 , 0.24307475, 0.037294  , 0.02543542],\n",
       "       [0.29383106, 0.41150102, 0.23422287, 0.03593589, 0.02450916],\n",
       "       [0.28319904, 0.43279535, 0.22574772, 0.03463558, 0.02362231],\n",
       "       [0.27301471, 0.41723127, 0.25359118, 0.03339003, 0.02277281],\n",
       "       [0.26325481, 0.40231583, 0.28027426, 0.03219638, 0.02195872],\n",
       "       [0.2538976 , 0.3880158 , 0.3058564 , 0.03105198, 0.02117821],\n",
       "       [0.24492275, 0.3743001 , 0.3303932 , 0.02995435, 0.0204296 ],\n",
       "       [0.23631121, 0.39629987, 0.31877649, 0.02890115, 0.01971129],\n",
       "       [0.26302485, 0.3824374 , 0.30762576, 0.02789019, 0.01902179],\n",
       "       [0.2538699 , 0.36912612, 0.33172484, 0.02691943, 0.01835971],\n",
       "       [0.24507586, 0.35633962, 0.35487384, 0.02598695, 0.01772373],\n",
       "       [0.23662566, 0.34405305, 0.34263781, 0.05957086, 0.01711262],\n",
       "       [0.22850321, 0.33224303, 0.36520253, 0.05752602, 0.01652521],\n",
       "       [0.22069336, 0.35506583, 0.35272053, 0.05555988, 0.0159604 ],\n",
       "       [0.24721791, 0.34298078, 0.3407153 , 0.05366884, 0.01541717],\n",
       "       [0.2388374 , 0.36525325, 0.3291653 , 0.05184951, 0.01489454],\n",
       "       [0.23077243, 0.38668712, 0.31805018, 0.05009867, 0.01439159],\n",
       "       [0.22300905, 0.4073195 , 0.3073507 , 0.04841331, 0.01390744],\n",
       "       [0.21553405, 0.42718545, 0.29704866, 0.04679055, 0.01344128],\n",
       "       [0.20833494, 0.4129169 , 0.32052814, 0.04522769, 0.01299233],\n",
       "       [0.23468793, 0.3991717 , 0.30985838, 0.04372215, 0.01255984],\n",
       "       [0.22690123, 0.41910656, 0.2995776 , 0.04227149, 0.01214312],\n",
       "       [0.21939674, 0.43831893, 0.28966942, 0.04087341, 0.0117415 ],\n",
       "       [0.21216268, 0.42386647, 0.31309078, 0.03952571, 0.01135435],\n",
       "       [0.20518789, 0.40993196, 0.33567276, 0.03822631, 0.01098108],\n",
       "       [0.23124224, 0.39649418, 0.32466923, 0.03697324, 0.01062111],\n",
       "       [0.22368302, 0.38353293, 0.31405591, 0.06845422, 0.01027391],\n",
       "       [0.21639052, 0.37102902, 0.33641902, 0.06622248, 0.00993896],\n",
       "       [0.20935408, 0.35896414, 0.3579969 , 0.0640691 , 0.00961577],\n",
       "       [0.20256354, 0.34732089, 0.34638503, 0.09442666, 0.00930388],\n",
       "       [0.22836608, 0.33608268, 0.33517709, 0.09137131, 0.00900284],\n",
       "       [0.25327503, 0.32523366, 0.32435731, 0.08842177, 0.00871222],\n",
       "       [0.27732505, 0.31475876, 0.31391063, 0.08557394, 0.00843162]])"
      ]
     },
     "execution_count": 199,
     "metadata": {},
     "output_type": "execute_result"
    }
   ],
   "source": [
    "prob_arrs"
   ]
  },
  {
   "cell_type": "code",
   "execution_count": 200,
   "id": "0a4a072b-487f-4400-adfe-b0ec88a8c96e",
   "metadata": {},
   "outputs": [
    {
     "data": {
      "text/plain": [
       "[0.05591242348875768,\n",
       " 0.0779316943767464,\n",
       " 0.05658398836486841,\n",
       " 0.0114825608746199,\n",
       " 0.010221549118499484]"
      ]
     },
     "execution_count": 200,
     "metadata": {},
     "output_type": "execute_result"
    }
   ],
   "source": [
    "classwise_ece_value"
   ]
  },
  {
   "cell_type": "code",
   "execution_count": 139,
   "id": "6a2446c9-c255-4a5a-a344-674fddca5a5b",
   "metadata": {},
   "outputs": [],
   "source": [
    "y_pred_hist = np.array(historic_preds)"
   ]
  },
  {
   "cell_type": "code",
   "execution_count": 140,
   "id": "aefc8683-1a34-4a5a-955c-7337fcd6412d",
   "metadata": {},
   "outputs": [
    {
     "name": "stdout",
     "output_type": "stream",
     "text": [
      "Classwise ECE: [0.139988601883931, 0.044850625314706995, 0.07308405892239389, 0.01568823019221871, 0.008953900320878385]\n"
     ]
    }
   ],
   "source": [
    "classwise_ece_values = classwise_ece(y, y_pred_hist, n_bins=10)\n",
    "print(f'Classwise ECE: {classwise_ece_values}')"
   ]
  },
  {
   "cell_type": "code",
   "execution_count": 7,
   "id": "16cd4ce2-9614-49e3-b616-2524d161e485",
   "metadata": {},
   "outputs": [],
   "source": [
    "judge['1B'] = judge['H'] - judge['2B'] - judge['3B'] - judge['HR']"
   ]
  },
  {
   "cell_type": "code",
   "execution_count": 62,
   "id": "a6c81683-85d0-4d30-a53d-03b3ae7c22dd",
   "metadata": {},
   "outputs": [],
   "source": [
    "rolling_hits = judge['H'].rolling(10, min_periods=1).sum()\n",
    "rolling_abs = judge['AB'].rolling(10, min_periods=1).sum()\n",
    "judge['BA10'] = rolling_hits / rolling_abs\n",
    "\n",
    "rolling_hits = judge['H'].rolling(5, min_periods=1).sum()\n",
    "rolling_abs = judge['AB'].rolling(5, min_periods=1).sum()\n",
    "judge['BA5'] = rolling_hits / rolling_abs\n",
    "\n",
    "rolling_bases = judge['H'].rolling(10, min_periods=1).sum() + judge['BB'].rolling(10, min_periods=1).sum() + judge['HBP'].rolling(10, min_periods=1).sum()\n",
    "rolling_pa = judge['PA'].rolling(10, min_periods=1).sum()\n",
    "judge['OBP10'] = rolling_bases / rolling_pa\n",
    "\n",
    "rolling_bases = judge['H'].rolling(5, min_periods=1).sum() + judge['BB'].rolling(10, min_periods=1).sum() + judge['HBP'].rolling(10, min_periods=1).sum()\n",
    "rolling_pa = judge['PA'].rolling(5, min_periods=1).sum()\n",
    "judge['OBP5'] = rolling_bases / rolling_pa\n",
    "\n",
    "\n",
    "rolling_bases = judge['2B'].rolling(10, min_periods=1).sum() * 2 + judge['3B'].rolling(10, min_periods=1).sum()*3 + judge['HR'].rolling(10, min_periods=1).sum()*4 + judge['1B'].rolling(10, min_periods=1).sum() \n",
    "rolling_abs = judge['AB'].rolling(10, min_periods=1).sum()\n",
    "judge['SLG10'] = rolling_bases / rolling_abs\n",
    "\n",
    "rolling_bases = judge['2B'].rolling(10, min_periods=1).sum() * 2 + judge['3B'].rolling(10, min_periods=1).sum()*3 + judge['HR'].rolling(10, min_periods=1).sum()*4 + judge['1B'].rolling(10, min_periods=1).sum() \n",
    "rolling_ab = judge['AB'].rolling(5, min_periods=1).sum()\n",
    "judge['SLG5'] = rolling_bases / rolling_ab\n",
    "\n",
    "judge['OPS10'] = judge['OBP10'] + judge['SLG10']\n",
    "judge['OPS5'] = judge['OBP5'] + judge['SLG5']\n",
    "\n",
    "test = judge.iloc[:, 13:21]"
   ]
  },
  {
   "cell_type": "code",
   "execution_count": 63,
   "id": "e7bb802c-4489-4c7e-a339-672a08848cae",
   "metadata": {},
   "outputs": [
    {
     "data": {
      "text/html": [
       "<div>\n",
       "<style scoped>\n",
       "    .dataframe tbody tr th:only-of-type {\n",
       "        vertical-align: middle;\n",
       "    }\n",
       "\n",
       "    .dataframe tbody tr th {\n",
       "        vertical-align: top;\n",
       "    }\n",
       "\n",
       "    .dataframe thead th {\n",
       "        text-align: right;\n",
       "    }\n",
       "</style>\n",
       "<table border=\"1\" class=\"dataframe\">\n",
       "  <thead>\n",
       "    <tr style=\"text-align: right;\">\n",
       "      <th></th>\n",
       "      <th>BA</th>\n",
       "      <th>OBP</th>\n",
       "      <th>SLG</th>\n",
       "      <th>OPS</th>\n",
       "      <th>BOP</th>\n",
       "      <th>Game</th>\n",
       "      <th>y</th>\n",
       "      <th>1B</th>\n",
       "    </tr>\n",
       "  </thead>\n",
       "  <tbody>\n",
       "    <tr>\n",
       "      <th>0</th>\n",
       "      <td>0.250</td>\n",
       "      <td>0.400</td>\n",
       "      <td>0.500</td>\n",
       "      <td>0.900</td>\n",
       "      <td>3.0</td>\n",
       "      <td>0</td>\n",
       "      <td>0.0</td>\n",
       "      <td>0</td>\n",
       "    </tr>\n",
       "    <tr>\n",
       "      <th>1</th>\n",
       "      <td>0.111</td>\n",
       "      <td>0.200</td>\n",
       "      <td>0.222</td>\n",
       "      <td>0.422</td>\n",
       "      <td>3.0</td>\n",
       "      <td>1</td>\n",
       "      <td>1.0</td>\n",
       "      <td>0</td>\n",
       "    </tr>\n",
       "    <tr>\n",
       "      <th>2</th>\n",
       "      <td>0.167</td>\n",
       "      <td>0.286</td>\n",
       "      <td>0.250</td>\n",
       "      <td>0.536</td>\n",
       "      <td>3.0</td>\n",
       "      <td>2</td>\n",
       "      <td>0.0</td>\n",
       "      <td>1</td>\n",
       "    </tr>\n",
       "    <tr>\n",
       "      <th>3</th>\n",
       "      <td>0.125</td>\n",
       "      <td>0.211</td>\n",
       "      <td>0.188</td>\n",
       "      <td>0.398</td>\n",
       "      <td>3.0</td>\n",
       "      <td>3</td>\n",
       "      <td>1.0</td>\n",
       "      <td>0</td>\n",
       "    </tr>\n",
       "    <tr>\n",
       "      <th>4</th>\n",
       "      <td>0.143</td>\n",
       "      <td>0.208</td>\n",
       "      <td>0.190</td>\n",
       "      <td>0.399</td>\n",
       "      <td>3.0</td>\n",
       "      <td>4</td>\n",
       "      <td>0.0</td>\n",
       "      <td>1</td>\n",
       "    </tr>\n",
       "    <tr>\n",
       "      <th>...</th>\n",
       "      <td>...</td>\n",
       "      <td>...</td>\n",
       "      <td>...</td>\n",
       "      <td>...</td>\n",
       "      <td>...</td>\n",
       "      <td>...</td>\n",
       "      <td>...</td>\n",
       "      <td>...</td>\n",
       "    </tr>\n",
       "    <tr>\n",
       "      <th>84</th>\n",
       "      <td>0.321</td>\n",
       "      <td>0.440</td>\n",
       "      <td>0.718</td>\n",
       "      <td>1.158</td>\n",
       "      <td>3.0</td>\n",
       "      <td>84</td>\n",
       "      <td>0.0</td>\n",
       "      <td>2</td>\n",
       "    </tr>\n",
       "    <tr>\n",
       "      <th>85</th>\n",
       "      <td>0.318</td>\n",
       "      <td>0.438</td>\n",
       "      <td>0.711</td>\n",
       "      <td>1.149</td>\n",
       "      <td>3.0</td>\n",
       "      <td>85</td>\n",
       "      <td>0.0</td>\n",
       "      <td>0</td>\n",
       "    </tr>\n",
       "    <tr>\n",
       "      <th>86</th>\n",
       "      <td>0.314</td>\n",
       "      <td>0.433</td>\n",
       "      <td>0.702</td>\n",
       "      <td>1.135</td>\n",
       "      <td>3.0</td>\n",
       "      <td>86</td>\n",
       "      <td>0.0</td>\n",
       "      <td>0</td>\n",
       "    </tr>\n",
       "    <tr>\n",
       "      <th>87</th>\n",
       "      <td>0.310</td>\n",
       "      <td>0.430</td>\n",
       "      <td>0.693</td>\n",
       "      <td>1.123</td>\n",
       "      <td>3.0</td>\n",
       "      <td>87</td>\n",
       "      <td>2.0</td>\n",
       "      <td>0</td>\n",
       "    </tr>\n",
       "    <tr>\n",
       "      <th>88</th>\n",
       "      <td>0.312</td>\n",
       "      <td>0.430</td>\n",
       "      <td>0.688</td>\n",
       "      <td>1.118</td>\n",
       "      <td>3.0</td>\n",
       "      <td>88</td>\n",
       "      <td>NaN</td>\n",
       "      <td>2</td>\n",
       "    </tr>\n",
       "  </tbody>\n",
       "</table>\n",
       "<p>89 rows × 8 columns</p>\n",
       "</div>"
      ],
      "text/plain": [
       "       BA    OBP    SLG    OPS  BOP  Game    y  1B\n",
       "0   0.250  0.400  0.500  0.900  3.0     0  0.0   0\n",
       "1   0.111  0.200  0.222  0.422  3.0     1  1.0   0\n",
       "2   0.167  0.286  0.250  0.536  3.0     2  0.0   1\n",
       "3   0.125  0.211  0.188  0.398  3.0     3  1.0   0\n",
       "4   0.143  0.208  0.190  0.399  3.0     4  0.0   1\n",
       "..    ...    ...    ...    ...  ...   ...  ...  ..\n",
       "84  0.321  0.440  0.718  1.158  3.0    84  0.0   2\n",
       "85  0.318  0.438  0.711  1.149  3.0    85  0.0   0\n",
       "86  0.314  0.433  0.702  1.135  3.0    86  0.0   0\n",
       "87  0.310  0.430  0.693  1.123  3.0    87  2.0   0\n",
       "88  0.312  0.430  0.688  1.118  3.0    88  NaN   2\n",
       "\n",
       "[89 rows x 8 columns]"
      ]
     },
     "execution_count": 63,
     "metadata": {},
     "output_type": "execute_result"
    }
   ],
   "source": [
    "test"
   ]
  },
  {
   "cell_type": "code",
   "execution_count": 64,
   "id": "be234109-2512-4f97-8cfa-a21b3c9624c0",
   "metadata": {},
   "outputs": [],
   "source": [
    "test = test.dropna()"
   ]
  },
  {
   "cell_type": "code",
   "execution_count": 65,
   "id": "630d5d5e-cc09-40ab-917c-ae392cc6a1cd",
   "metadata": {},
   "outputs": [],
   "source": [
    "X= test.drop(['y', '1B'], axis = 1)\n",
    "y = test['y']"
   ]
  },
  {
   "cell_type": "code",
   "execution_count": 66,
   "id": "6f8a1ae3-5a5f-410d-9534-17502e7023db",
   "metadata": {},
   "outputs": [],
   "source": [
    "X_train, X_test, y_train, y_test = train_test_split(X, y, test_size=0.2, random_state=42)"
   ]
  },
  {
   "cell_type": "code",
   "execution_count": 67,
   "id": "99b01e41-d563-4a7a-aed3-513d95b9dda3",
   "metadata": {},
   "outputs": [
    {
     "name": "stdout",
     "output_type": "stream",
     "text": [
      "  Feature  Importance\n",
      "5    Game    0.215725\n",
      "0      BA    0.209700\n",
      "3     OPS    0.202190\n",
      "2     SLG    0.197261\n",
      "1     OBP    0.175124\n",
      "4     BOP    0.000000\n"
     ]
    }
   ],
   "source": [
    "model = RandomForestClassifier(random_state=42)\n",
    "\n",
    "# Train the model\n",
    "model.fit(X_train, y_train)\n",
    "\n",
    "# Get feature importances\n",
    "importances = model.feature_importances_\n",
    "\n",
    "# Create a DataFrame for visualization\n",
    "feature_importances = pd.DataFrame({\n",
    "    'Feature': X_train.columns,\n",
    "    'Importance': importances\n",
    "}).sort_values(by='Importance', ascending=False)\n",
    "\n",
    "print(feature_importances)"
   ]
  },
  {
   "cell_type": "code",
   "execution_count": 68,
   "id": "891e0dfe-6806-4d9f-887a-7b6189535f6f",
   "metadata": {},
   "outputs": [],
   "source": [
    "y_pred_proba = model.predict_proba(X_test)"
   ]
  },
  {
   "cell_type": "code",
   "execution_count": 69,
   "id": "60de18ef-818a-4db8-916d-d3d58c6a17ad",
   "metadata": {},
   "outputs": [],
   "source": [
    "def classwise_ece(y_true, y_prob, n_bins=10):\n",
    "    num_classes = y_prob.shape[1]\n",
    "    classwise_ece_scores = []\n",
    "\n",
    "    for k in range(num_classes):\n",
    "        y_true_k = (y_true == k).astype(int)\n",
    "        y_prob_k = y_prob[:, k]\n",
    "        \n",
    "        bin_boundaries = np.linspace(0, 1, n_bins + 1)\n",
    "        bin_lowers = bin_boundaries[:-1]\n",
    "        bin_uppers = bin_boundaries[1:]\n",
    "\n",
    "        ece_k = 0.0\n",
    "        for bin_lower, bin_upper in zip(bin_lowers, bin_uppers):\n",
    "            in_bin = np.logical_and(bin_lower < y_prob_k, y_prob_k <= bin_upper)\n",
    "            prop_in_bin = np.mean(in_bin)\n",
    "            if prop_in_bin > 0:\n",
    "                accuracy_in_bin = np.mean(y_true_k[in_bin])\n",
    "                avg_prob_in_bin = np.mean(y_prob_k[in_bin])\n",
    "                ece_k += np.abs(avg_prob_in_bin - accuracy_in_bin) * prop_in_bin\n",
    "\n",
    "        classwise_ece_scores.append(ece_k)\n",
    "\n",
    "    return classwise_ece_scores"
   ]
  },
  {
   "cell_type": "code",
   "execution_count": 103,
   "id": "43654703-18e1-4459-bebb-bc74133ef721",
   "metadata": {},
   "outputs": [
    {
     "data": {
      "text/plain": [
       "array([76,  0, 26, 22, 12, 67, 10, 18,  4, 68, 85, 65, 53, 80, 84, 64, 33,\n",
       "       79], dtype=int64)"
      ]
     },
     "execution_count": 103,
     "metadata": {},
     "output_type": "execute_result"
    }
   ],
   "source": [
    "np.array(y_test.index)"
   ]
  },
  {
   "cell_type": "code",
   "execution_count": 134,
   "id": "f0189871-0a1e-469a-bbef-6cedeb356423",
   "metadata": {},
   "outputs": [],
   "source": [
    "y_pred_hist = np.array(historic_preds)[np.array(y_test.index)]"
   ]
  },
  {
   "cell_type": "code",
   "execution_count": 135,
   "id": "32d9d9cf-044b-4146-a912-9651b5537936",
   "metadata": {},
   "outputs": [
    {
     "name": "stdout",
     "output_type": "stream",
     "text": [
      "Classwise ECE: [0.31351548117421346, 0.18237049784367604, 0.09386700980945989, 0.10381352363900553, 0.007375270235420725]\n"
     ]
    }
   ],
   "source": [
    "classwise_ece_values = classwise_ece(y_test, y_pred_hist, n_bins=10)\n",
    "print(f'Classwise ECE: {classwise_ece_values}')"
   ]
  },
  {
   "cell_type": "code",
   "execution_count": null,
   "id": "f5b5ea44-46bc-4a18-ad6c-18caed1358e1",
   "metadata": {},
   "outputs": [],
   "source": [
    "Classwise ECE: [0.32666666666666677, 0.30833333333333335, 0.34277777777777774, 0.18944444444444444, 0.0005555555555555556]"
   ]
  },
  {
   "cell_type": "code",
   "execution_count": 74,
   "id": "6e01fa3a-4f1c-4925-a70e-70548e9e7cdc",
   "metadata": {},
   "outputs": [
    {
     "name": "stderr",
     "output_type": "stream",
     "text": [
      "C:\\Users\\johng\\Python\\anaconda3\\envs\\mlb_bets\\Lib\\site-packages\\sklearn\\base.py:493: UserWarning: X does not have valid feature names, but RandomForestClassifier was fitted with feature names\n",
      "  warnings.warn(\n"
     ]
    },
    {
     "data": {
      "text/plain": [
       "array([[0.14, 0.14, 0.72, 0.  , 0.  ]])"
      ]
     },
     "execution_count": 74,
     "metadata": {},
     "output_type": "execute_result"
    }
   ],
   "source": [
    "model.predict_proba(np.array([0.312, 0.430, 0.688, 1.118, 3.0, 88]).reshape(1, -1))"
   ]
  },
  {
   "cell_type": "code",
   "execution_count": 114,
   "id": "43dc8959-8c5e-487b-a0cb-5e6c7db63324",
   "metadata": {},
   "outputs": [
    {
     "data": {
      "text/plain": [
       "array([0.35227273, 0.30681818, 0.27272727, 0.05681818, 0.01136364])"
      ]
     },
     "execution_count": 114,
     "metadata": {},
     "output_type": "execute_result"
    }
   ],
   "source": [
    "historic_preds[-1]"
   ]
  },
  {
   "cell_type": "code",
   "execution_count": 112,
   "id": "0b2cdb73-29f2-46f4-acfd-5402dcfc88e0",
   "metadata": {},
   "outputs": [
    {
     "data": {
      "text/plain": [
       "0.6477272727272727"
      ]
     },
     "execution_count": 112,
     "metadata": {},
     "output_type": "execute_result"
    }
   ],
   "source": [
    "historic_preds[-1][1:].sum()"
   ]
  },
  {
   "cell_type": "code",
   "execution_count": null,
   "id": "99341611-659e-4890-b117-215965238e3d",
   "metadata": {},
   "outputs": [],
   "source": [
    "[0.160246440159461, 0.026372961837767196, 0.20887939554843984, 0.08635677160904831, 0.007748810549401915]"
   ]
  }
 ],
 "metadata": {
  "kernelspec": {
   "display_name": "Python 3 (ipykernel)",
   "language": "python",
   "name": "python3"
  },
  "language_info": {
   "codemirror_mode": {
    "name": "ipython",
    "version": 3
   },
   "file_extension": ".py",
   "mimetype": "text/x-python",
   "name": "python",
   "nbconvert_exporter": "python",
   "pygments_lexer": "ipython3",
   "version": "3.12.2"
  }
 },
 "nbformat": 4,
 "nbformat_minor": 5
}
